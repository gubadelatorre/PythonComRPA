{
 "cells": [
  {
   "cell_type": "markdown",
   "id": "54e0713d",
   "metadata": {},
   "source": [
    "# BIBLIOTECAS para Robotic Process Automation – RPA"
   ]
  },
  {
   "cell_type": "code",
   "execution_count": 1,
   "id": "1de5f8bb",
   "metadata": {},
   "outputs": [],
   "source": [
    "import pyautogui\n",
    "import pyperclip\n",
    "import time\n",
    "pyautogui.PAUSE = 1"
   ]
  },
  {
   "cell_type": "code",
   "execution_count": 2,
   "id": "b0dac2ef",
   "metadata": {},
   "outputs": [],
   "source": [
    "import pandas"
   ]
  },
  {
   "cell_type": "code",
   "execution_count": 4,
   "id": "52f248f0",
   "metadata": {},
   "outputs": [
    {
     "name": "stdout",
     "output_type": "stream",
     "text": [
      "                       e-mail       NIVER\n",
      "0      prof.massaki@gmail.com  25/05/1981\n",
      "1  massaki.igarashi@gmail.com  29/05/2022\n",
      "2      prof.massaki@gmail.com  30/05/2022\n"
     ]
    }
   ],
   "source": [
    "import pandas as pd\n",
    "df = pd.read_csv('mailLISTniver.csv', sep = \";\")\n",
    "print(df)"
   ]
  },
  {
   "cell_type": "code",
   "execution_count": 5,
   "id": "69e7301e",
   "metadata": {},
   "outputs": [
    {
     "data": {
      "text/plain": [
       "'massaki.igarashi@gmail.com'"
      ]
     },
     "execution_count": 5,
     "metadata": {},
     "output_type": "execute_result"
    }
   ],
   "source": [
    "mail1 = df[\"e-mail\"][1]\n",
    "mail1"
   ]
  },
  {
   "cell_type": "markdown",
   "id": "f613b161",
   "metadata": {},
   "source": [
    "### pandas.DataFrame.value_counts\n",
    " DataFrame.value_counts(subset=None, normalize=False, sort=True, ascending=False, dropna=True)\n",
    " \n",
    "**Retorna uma série contendo a frequência em cada linha de um DataFrame.**"
   ]
  },
  {
   "cell_type": "code",
   "execution_count": 6,
   "id": "cb97fe47",
   "metadata": {},
   "outputs": [
    {
     "data": {
      "text/plain": [
       "prof.massaki@gmail.com        2\n",
       "massaki.igarashi@gmail.com    1\n",
       "Name: e-mail, dtype: int64"
      ]
     },
     "execution_count": 6,
     "metadata": {},
     "output_type": "execute_result"
    }
   ],
   "source": [
    "df['e-mail'].value_counts()"
   ]
  },
  {
   "cell_type": "markdown",
   "id": "64680da0",
   "metadata": {},
   "source": [
    "#### DataFrame[\"NOME_DA_COLUNA\"][ÍNDICE_DA_LINHA]"
   ]
  },
  {
   "cell_type": "code",
   "execution_count": 7,
   "id": "6768b9ac",
   "metadata": {},
   "outputs": [
    {
     "data": {
      "text/plain": [
       "'prof.massaki@gmail.com'"
      ]
     },
     "execution_count": 7,
     "metadata": {},
     "output_type": "execute_result"
    }
   ],
   "source": [
    "df[\"e-mail\"][0]"
   ]
  },
  {
   "cell_type": "markdown",
   "id": "0065d242",
   "metadata": {},
   "source": [
    "## Substring em Python\n",
    "Uma parte de um texto (string) é conhecida como substring. \n",
    "Existem vários métodos para criar uma substring em python e verificar se uma substring está presente em uma string, índice de uma substring e muito mais. \n",
    "Uma substring em python pode ser gerada por fatiamento da seguinte forma:\n",
    "\n",
    "### string[começo: fim: passo]"
   ]
  },
  {
   "cell_type": "code",
   "execution_count": 8,
   "id": "c1a1e8ce",
   "metadata": {},
   "outputs": [
    {
     "name": "stdout",
     "output_type": "stream",
     "text": [
      "25\n",
      "05\n",
      "1981\n"
     ]
    }
   ],
   "source": [
    "string = df['NIVER'][0]\n",
    "print(string[0: 2])\n",
    "print(string[3: 5])\n",
    "print(string[6: 10])"
   ]
  },
  {
   "cell_type": "markdown",
   "id": "b46bf5e2",
   "metadata": {},
   "source": [
    "## A Classe datetime\n",
    "Uma das vantagens da classe datetime é que ela consegue cuidar da data e do horário ao mesmo tempo. \n",
    "Para isso usaremos o método now():\n",
    "#### Exemplo:"
   ]
  },
  {
   "cell_type": "code",
   "execution_count": 9,
   "id": "6b145194",
   "metadata": {},
   "outputs": [
    {
     "data": {
      "text/plain": [
       "6"
      ]
     },
     "execution_count": 9,
     "metadata": {},
     "output_type": "execute_result"
    }
   ],
   "source": [
    "from datetime import datetime\n",
    "def Periodo(d, m, y):\n",
    "    return (datetime.now().year - y) + (datetime.now().month -m) + (datetime.now().day -d)\n",
    "Periodo(24, 5, 2022)"
   ]
  },
  {
   "cell_type": "markdown",
   "id": "9c758043",
   "metadata": {},
   "source": [
    "## Agora vamos tentar criar uma função denominada Período para calcular o intervalo entre datas\n",
    "Para nosso exemplo, tambvém teremos que recorrer ao conceito de \n",
    "### ESTRUTURA CONDICIONAL\n",
    "Uma estrutura condicional, como o próprio nome já diz é uma estrutura que vai analisar uma condição e baseado no resultado dessa condição é que vamos executar uma determinada ação.\n",
    "\n",
    "Vamos iniciar com a função IF, traduzindo ela significa SE. Então fica mais fácil de entender.\n",
    "\n",
    "Um exemplo simples, SE 10 for maior que 5, então vamos executar uma ação, caso contrário não vamos fazer nada."
   ]
  },
  {
   "cell_type": "code",
   "execution_count": 10,
   "id": "077337a5",
   "metadata": {},
   "outputs": [
    {
     "name": "stdout",
     "output_type": "stream",
     "text": [
      "Não é\n",
      "Não é\n",
      "É niver!\n"
     ]
    }
   ],
   "source": [
    "from datetime import datetime\n",
    "def Periodo(d, m, y):\n",
    "    return (datetime.now().year - y) + (datetime.now().month -m) + (datetime.now().day -d)\n",
    "Periodo(24, 5, 2022)\n",
    "\n",
    "for i in range(3):\n",
    "    string = df['NIVER'][i]\n",
    "    d = string[0: 2]\n",
    "    m = string[3: 5]\n",
    "    a = string[6: 10]\n",
    "    p = Periodo(float(d), float(m), float(a))\n",
    "    if p==0.0:\n",
    "        print(\"É niver!\")\n",
    "    else:\n",
    "        print(\"Não é\")"
   ]
  },
  {
   "cell_type": "markdown",
   "id": "98492fb6",
   "metadata": {},
   "source": [
    "#### Agora vocês ver como ficará nosso exemplo com as novas implementações:"
   ]
  },
  {
   "cell_type": "code",
   "execution_count": null,
   "id": "91ac5da8",
   "metadata": {},
   "outputs": [
    {
     "name": "stdout",
     "output_type": "stream",
     "text": [
      "Não é niver!\n",
      "Não é niver!\n"
     ]
    }
   ],
   "source": [
    "from datetime import datetime\n",
    "def Periodo(d, m, y):\n",
    "    return (datetime.now().year - y) + (datetime.now().month -m) + (datetime.now().day -d)\n",
    "\n",
    "for i in range(3):\n",
    "    string = df['NIVER'][i]\n",
    "    d = string[0: 2]\n",
    "    m = string[3: 5]\n",
    "    a = string[6: 10]\n",
    "    p = Periodo(float(d), float(m), float(a))\n",
    "    if p==0.0:\n",
    "        pyautogui.hotkey(\"ctrl\", \"t\")\n",
    "        pyperclip.copy(\"https://mail.google.com/mail/u/0/?hl=pt-BR#inbox?compose=new\")\n",
    "        pyautogui.hotkey(\"ctrl\", \"v\")\n",
    "        pyautogui.press(\"enter\")\n",
    "        time.sleep(10)    \n",
    "        pyautogui.write(str(df[\"e-mail\"][i]))\n",
    "        pyautogui.press(\"tab\") # pula pro campo de assunto\n",
    "        pyautogui.press(\"tab\") # pula pro campo de assunto\n",
    "        pyautogui.write(\"Feliz\")\n",
    "        pyperclip.copy(\" Aniversario.\")\n",
    "        pyautogui.hotkey(\"ctrl\", \"v\") # escrever o assunto\n",
    "        pyautogui.press(\"tab\") #pular pro corpo do email\n",
    "        time.sleep(5)\n",
    "        pyautogui.write(\"Passando para desejar muitas felicidades! \\n\")\n",
    "        pyautogui.write(\"Muitas felicidades e muitos anos de vida. \\n\")\n",
    "        pyautogui.write(\"Aproveite bem o seu dia!\")\n",
    "        time.sleep(5)\n",
    "        # apertar Ctrl Enter\n",
    "        pyautogui.hotkey(\"ctrl\", \"enter\")\n",
    "        # Tela de processo concluído\n",
    "    else:\n",
    "        print(\"Não é niver!\")\n",
    "    \n",
    "time.sleep(5)\n",
    "pyautogui.hotkey(\"ctrl\", \"t\")\n",
    "pyperclip.copy(\"https://www.gov.br/cgu/pt-br/100-dias/statusconcluido.png/@@images/image\")\n",
    "pyautogui.hotkey(\"ctrl\", \"v\")\n",
    "pyautogui.press(\"enter\")"
   ]
  },
  {
   "cell_type": "code",
   "execution_count": null,
   "id": "9b779e21",
   "metadata": {},
   "outputs": [],
   "source": []
  }
 ],
 "metadata": {
  "kernelspec": {
   "display_name": "Python 3 (ipykernel)",
   "language": "python",
   "name": "python3"
  },
  "language_info": {
   "codemirror_mode": {
    "name": "ipython",
    "version": 3
   },
   "file_extension": ".py",
   "mimetype": "text/x-python",
   "name": "python",
   "nbconvert_exporter": "python",
   "pygments_lexer": "ipython3",
   "version": "3.9.7"
  }
 },
 "nbformat": 4,
 "nbformat_minor": 5
}
