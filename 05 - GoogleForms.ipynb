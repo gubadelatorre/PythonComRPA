{
 "cells": [
  {
   "cell_type": "markdown",
   "id": "54e0713d",
   "metadata": {},
   "source": [
    "# BIBLIOTECAS para Robotic Process Automation – RPA"
   ]
  },
  {
   "cell_type": "code",
   "execution_count": 26,
   "id": "1de5f8bb",
   "metadata": {},
   "outputs": [],
   "source": [
    "import pyautogui\n",
    "import pyperclip\n",
    "import time\n",
    "pyautogui.PAUSE = 1"
   ]
  },
  {
   "cell_type": "code",
   "execution_count": 27,
   "id": "b0dac2ef",
   "metadata": {},
   "outputs": [],
   "source": [
    "import pandas"
   ]
  },
  {
   "cell_type": "code",
   "execution_count": 28,
   "id": "52f248f0",
   "metadata": {},
   "outputs": [
    {
     "name": "stdout",
     "output_type": "stream",
     "text": [
      "             Data_hora                       e-mail Confirmacao  \\\n",
      "0  29/08/2022 17:07:20       prof.massaki@gmail.com         Sim   \n",
      "1  30/08/2022 12:25:21   massaki.igarashi@gmail.com         Sim   \n",
      "\n",
      "                      Nome            e-mailCERTIFICADO        FaixaEtaria  \\\n",
      "0         Massaki Igarashi       prof.massaki@gmail.com   acima de 40 anos   \n",
      "1   Massaki de O. Igarashi   massaki.igarashi@gmail.com   acima de 40 anos   \n",
      "\n",
      "        Motivacao  \n",
      "0   Aprimoramento  \n",
      "1    Conhecimento  \n"
     ]
    }
   ],
   "source": [
    "import pandas as pd\n",
    "df = pd.read_csv('PythoncomRPA2repostas.csv', sep = \",\")\n",
    "print(df)"
   ]
  },
  {
   "cell_type": "code",
   "execution_count": 39,
   "id": "69e7301e",
   "metadata": {},
   "outputs": [
    {
     "data": {
      "text/plain": [
       "' prof.massaki@gmail.com'"
      ]
     },
     "execution_count": 39,
     "metadata": {},
     "output_type": "execute_result"
    }
   ],
   "source": [
    "mail1 = df[\"e-mail\"][0]\n",
    "mail1"
   ]
  },
  {
   "cell_type": "code",
   "execution_count": 40,
   "id": "5c791dce",
   "metadata": {},
   "outputs": [],
   "source": [
    "n = len(df)"
   ]
  },
  {
   "cell_type": "markdown",
   "id": "f613b161",
   "metadata": {},
   "source": [
    "### pandas.DataFrame.value_counts\n",
    " DataFrame.value_counts(subset=None, normalize=False, sort=True, ascending=False, dropna=True)\n",
    " \n",
    "**Retorna uma série contendo a frequência em cada linha de um DataFrame.**"
   ]
  },
  {
   "cell_type": "code",
   "execution_count": 41,
   "id": "cb97fe47",
   "metadata": {},
   "outputs": [
    {
     "data": {
      "text/plain": [
       " prof.massaki@gmail.com        1\n",
       " massaki.igarashi@gmail.com    1\n",
       "Name: e-mail, dtype: int64"
      ]
     },
     "execution_count": 41,
     "metadata": {},
     "output_type": "execute_result"
    }
   ],
   "source": [
    "df['e-mail'].value_counts()"
   ]
  },
  {
   "cell_type": "markdown",
   "id": "64680da0",
   "metadata": {},
   "source": [
    "#### DataFrame[\"NOME_DA_COLUNA\"][ÍNDICE_DA_LINHA]"
   ]
  },
  {
   "cell_type": "code",
   "execution_count": 42,
   "id": "6768b9ac",
   "metadata": {},
   "outputs": [
    {
     "data": {
      "text/plain": [
       "' prof.massaki@gmail.com'"
      ]
     },
     "execution_count": 42,
     "metadata": {},
     "output_type": "execute_result"
    }
   ],
   "source": [
    "df[\"e-mail\"][0]"
   ]
  },
  {
   "cell_type": "markdown",
   "id": "98492fb6",
   "metadata": {},
   "source": [
    "#### Agora vocês ver como ficará nosso exemplo com as novas implementações:"
   ]
  },
  {
   "cell_type": "code",
   "execution_count": null,
   "id": "73dd2bf9",
   "metadata": {},
   "outputs": [],
   "source": []
  },
  {
   "cell_type": "raw",
   "id": "0ad6b6ba",
   "metadata": {},
   "source": []
  },
  {
   "cell_type": "code",
   "execution_count": null,
   "id": "60081372",
   "metadata": {},
   "outputs": [],
   "source": []
  },
  {
   "cell_type": "raw",
   "id": "9926338f",
   "metadata": {},
   "source": []
  },
  {
   "cell_type": "code",
   "execution_count": 47,
   "id": "91ac5da8",
   "metadata": {},
   "outputs": [],
   "source": [
    "from datetime import datetime\n",
    "def Periodo(d, m, y):\n",
    "    return (datetime.now().year - y) + (datetime.now().month -m) + (datetime.now().day -d)\n",
    "n = len(df) #Contabiliza a quantidade de registro para o Looping\n",
    "for i in range(n-1):        \n",
    "        pyautogui.hotkey(\"ctrl\", \"t\")        \n",
    "        pyperclip.copy(\"https://forms.gle/KD2tidJycveYDbWV8\")\n",
    "        time.sleep(5)\n",
    "        pyautogui.hotkey(\"ctrl\", \"v\")\n",
    "        pyautogui.press(\"enter\")        \n",
    "        pyautogui.press(\"tab\") # pula pro campo de assunto\n",
    "        pyautogui.press(\"tab\") # pula pro campo de assunto\n",
    "        pyautogui.press(\"tab\") # pula pro campo de assunto\n",
    "        pyautogui.press(\"tab\") # pula pro campo de assunto\n",
    "        time.sleep(7)\n",
    "        pyautogui.write(str(df[\"Nome\"][i]))\n",
    "        pyautogui.press(\"tab\") # pula pro campo de assunto\n",
    "        pyautogui.write(str(df[\"e-mail\"][i]))\n",
    "        pyautogui.press(\"tab\") # pula pro campo de assunto\n",
    "        #pyautogui.hotkey(\"ctrl\", \"v\")\n",
    "        time.sleep(7)\n",
    "        pyautogui.press(\"enter\")\n",
    "# Tela de processo concluído\n",
    "time.sleep(5)\n",
    "pyautogui.hotkey(\"ctrl\", \"t\")\n",
    "pyperclip.copy(\"https://www.gov.br/cgu/pt-br/100-dias/statusconcluido.png/@@images/image\")\n",
    "pyautogui.hotkey(\"ctrl\", \"v\")\n",
    "pyautogui.press(\"enter\")"
   ]
  },
  {
   "cell_type": "code",
   "execution_count": null,
   "id": "f72c1258",
   "metadata": {},
   "outputs": [],
   "source": []
  },
  {
   "cell_type": "code",
   "execution_count": null,
   "id": "e30c6fb1",
   "metadata": {},
   "outputs": [],
   "source": []
  },
  {
   "cell_type": "code",
   "execution_count": null,
   "id": "8f9f6122",
   "metadata": {},
   "outputs": [],
   "source": [
    "\n",
    "\n"
   ]
  },
  {
   "cell_type": "code",
   "execution_count": null,
   "id": "32a40bc5",
   "metadata": {},
   "outputs": [],
   "source": []
  }
 ],
 "metadata": {
  "kernelspec": {
   "display_name": "Python 3 (ipykernel)",
   "language": "python",
   "name": "python3"
  },
  "language_info": {
   "codemirror_mode": {
    "name": "ipython",
    "version": 3
   },
   "file_extension": ".py",
   "mimetype": "text/x-python",
   "name": "python",
   "nbconvert_exporter": "python",
   "pygments_lexer": "ipython3",
   "version": "3.9.7"
  }
 },
 "nbformat": 4,
 "nbformat_minor": 5
}
