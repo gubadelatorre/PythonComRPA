{
  "nbformat": 4,
  "nbformat_minor": 0,
  "metadata": {
    "colab": {
      "private_outputs": true,
      "provenance": [],
      "include_colab_link": true
    },
    "kernelspec": {
      "name": "python3",
      "display_name": "Python 3"
    },
    "language_info": {
      "name": "python"
    }
  },
  "cells": [
    {
      "cell_type": "markdown",
      "metadata": {
        "id": "view-in-github",
        "colab_type": "text"
      },
      "source": [
        "<a href=\"https://colab.research.google.com/github/gubadelatorre/PythonComRPA/blob/main/Arquivo_FODA_DA_PROVA_.ipynb\" target=\"_parent\"><img src=\"https://colab.research.google.com/assets/colab-badge.svg\" alt=\"Open In Colab\"/></a>"
      ]
    },
    {
      "cell_type": "markdown",
      "source": [
        "# **AULA DE HOJE APRENDEREMOS**\n",
        "\n"
      ],
      "metadata": {
        "id": "wZLDMwSU4LHc"
      }
    },
    {
      "cell_type": "markdown",
      "source": [
        "✓ Visualização gráfica usando a biblioteca\n",
        "Matplotlib é uma biblioteca para fazer gráficos 2D de arrays (arranos de dados) em Python . Embora tenha\n",
        "origem na emulação dos comandos gráficos do MATLAB, é independente do MATLAB e pode ser usado de forma\n",
        "Pythonic, orientada a objetos. Embora Matplotlib seja escrito principalmente em Python puro, faz uso intenso\n",
        "de NumPy e outros códigos de extensão para fornecer bom desempenho mesmo para arrays grandes. A\n",
        "biblioteca Matplotlib foi projetada com a filosofia de que você deve ser capaz de criar gráficos simples com\n",
        "apenas alguns comandos, ou apenas um! Se você quiser ver um histograma de seus dados, não precisará\n",
        "instanciar objetos, chamar métodos, definir propriedades e assim por diante; deveria funcionar."
      ],
      "metadata": {
        "id": "QXq7YRQu4aJg"
      }
    },
    {
      "cell_type": "code",
      "execution_count": null,
      "metadata": {
        "id": "Cbe2-ZBmPzMI"
      },
      "outputs": [],
      "source": [
        "from io import BytesIO\n",
        "import requests\n",
        "import pandas as pd\n",
        "import smtplib\n",
        "import time\n",
        "import email\n",
        "from PIL import Image\n",
        "import altair as alt\n",
        "import matplotlib.pyplot as plt\n",
        "from wordcloud import WordCloud, STOPWORDS, ImageColorGenerator\n",
        "import datetime\n",
        "rD = requests.get('https://docs.google.com/spreadsheets/d/e/2PACX-1vQeQReCjkHBBMxcMdhxJWRj0YMf5n4FfLPFigXrl6rSyEbrlDLvYMC6nOhbnBdVGx21LltR9f3VrPu0/pub?gid=1289939675&single=true&output=csv')\n",
        "dataD = rD.content\n",
        "dfD = pd.read_csv(BytesIO(dataD))\n",
        "dfD.columns = ['DataHora', 'idade', 'opiniao', 'resumo']\n",
        "dfD.columns"
      ]
    },
    {
      "cell_type": "code",
      "source": [
        "dfD"
      ],
      "metadata": {
        "id": "1M8fcMa5tUWw"
      },
      "execution_count": null,
      "outputs": []
    },
    {
      "cell_type": "markdown",
      "source": [
        "#**OBSERVAÇÃO**\n",
        "### Antes de sair criando os gráficos, é necessário isolar os dados com os quais você precisará trabalhar"
      ],
      "metadata": {
        "id": "8bx9Y1764oFX"
      }
    },
    {
      "cell_type": "code",
      "source": [
        "selecao01 = dfD['opiniao']=='elogio'\n",
        "dfElogio = dfD[selecao01]\n",
        "selecao02 = dfD['opiniao']=='sugestao'\n",
        "dfSugestao = dfD[selecao02]\n",
        "selecao03 = dfD['opiniao']=='critica'\n",
        "dfCritica = dfD[selecao03]\n",
        "nElogio = len(dfElogio)\n",
        "nSugestao = len(dfSugestao)\n",
        "nCritica = len(dfCritica)\n",
        "print(\"nº de Elogios = \" + str(nElogio))\n",
        "print(\"nº de Sugestões = \" + str(nSugestao))\n",
        "print(\"nº de Elogios = \" + str(nCritica))"
      ],
      "metadata": {
        "id": "F6vTOV5ao_gN"
      },
      "execution_count": null,
      "outputs": []
    },
    {
      "cell_type": "markdown",
      "source": [
        "# **01- Gráfico de Pizza (Pie Chart)**"
      ],
      "metadata": {
        "id": "1y4u6x-Jv8Bo"
      }
    },
    {
      "cell_type": "code",
      "source": [
        "import matplotlib.pyplot as plt\n",
        "import numpy as np\n",
        "\n",
        "fig, ax = plt.subplots(figsize=(6, 3), subplot_kw=dict(aspect=\"equal\"))\n",
        "\n",
        "labels = 'Críticas', 'Sugestões', 'Elogios'\n",
        "data = [nCritica, nSugestao, nElogio]\n",
        "explode = (0, 0, 0.1)  # only \"explode\" the 1st slice\n",
        "\n",
        "def func(pct, allvals):\n",
        "    absolute = int(np.round(pct/100.*np.sum(allvals)))\n",
        "    return f\"{pct:.1f}%\\n({absolute:d} respostas)\"\n",
        "\n",
        "wedges, texts, autotexts = ax.pie(data, explode = explode, autopct=lambda pct: func(pct, data),\n",
        "                                  textprops=dict(color=\"w\"))\n",
        "\n",
        "ax.legend(wedges, labels,\n",
        "          title=\"Opiniões\",\n",
        "          loc=\"center left\",\n",
        "          bbox_to_anchor=(1, 0, 0.5, 1))\n",
        "\n",
        "plt.setp(autotexts, size=8, weight=\"bold\")\n",
        "\n",
        "ax.set_title(\"Percentual de Opiniões\")\n",
        "\n",
        "plt.show()"
      ],
      "metadata": {
        "id": "ekoi6GS0ruOt"
      },
      "execution_count": null,
      "outputs": []
    },
    {
      "cell_type": "markdown",
      "source": [
        "# **02- Gráfico de Barra (Bar Plot)**"
      ],
      "metadata": {
        "id": "18hw4nKxwLWv"
      }
    },
    {
      "cell_type": "code",
      "source": [
        "import matplotlib.pyplot as plt\n",
        "\n",
        "fig, ax = plt.subplots()\n",
        "\n",
        "labels = 'Críticas', 'Sugestões', 'Elogios'\n",
        "data = [nCritica, nSugestao, nElogio]\n",
        "\n",
        "bar_labels = ['red', 'blue', 'green']\n",
        "bar_colors = ['tab:red', 'tab:blue', 'tab:green']\n",
        "\n",
        "ax.bar(labels, data, label=labels, color=bar_colors)\n",
        "\n",
        "ax.set_ylabel('Nº de Respostas')\n",
        "ax.set_title('Percentual de Opiniões')\n",
        "ax.legend(title='Opiniões')\n",
        "\n",
        "plt.show()"
      ],
      "metadata": {
        "id": "9ecnwGRiv5Jc"
      },
      "execution_count": null,
      "outputs": []
    },
    {
      "cell_type": "markdown",
      "source": [
        "# **03- Nuvem de Palavras (“Wordcloud”)**"
      ],
      "metadata": {
        "id": "1EYqQbiH497X"
      }
    },
    {
      "cell_type": "code",
      "source": [
        "# eliminar as colunas com valores ausentes\n",
        "summary = dfD.dropna(subset=['resumo'], axis=0)['resumo']\n",
        "# concatenar as palavras\n",
        "all_summary = \" \".join(s for s in summary)\n",
        "# lista de stopword\n",
        "stopwords = set(STOPWORDS)\n",
        "stopwords.update([\"de\", \"ao\", \"o\", \"nao\", \"não\", \"para\", \"da\", \"meu\", \"em\", \"você\", \"ter\", \"um\", \"ou\", \"os\", \"ser\", \"só\"])\n",
        "# gerar uma wordcloud\n",
        "wordcloud = WordCloud(stopwords=stopwords,\n",
        "                      background_color=\"white\",\n",
        "                      width=1600, height=800).generate(all_summary)\n",
        "# mostrar a imagem final\n",
        "#fig, ax = plt.subplots(figsize=(10,6))\n",
        "#ax.imshow(wordcloud, interpolation='bilinear')\n",
        "#ax.set_axis_off()\n",
        "plt.imshow(wordcloud);\n",
        "plt.imshow(wordcloud, interpolation='bilinear')\n",
        "plt.axis(\"off\")\n",
        "plt.show()\n",
        "#st.pyplot()\n",
        "wordcloud.to_file(\"Nuvem_de_Palavras_Mensagem.png\")"
      ],
      "metadata": {
        "id": "wZW3mrwvQvjK"
      },
      "execution_count": null,
      "outputs": []
    },
    {
      "cell_type": "code",
      "source": [
        "import numpy as np\n",
        "import matplotlib.pyplot as plt\n",
        "\n",
        "wordlist = all_summary.split()\n",
        "wordfreq = []\n",
        "for w in wordlist:\n",
        "    wordfreq.append(wordlist.count(w))\n",
        "\n",
        "x = list(wordlist)\n",
        "y = list(wordfreq)\n",
        "\n",
        "fig = plt.figure(figsize = (10, 5))\n",
        "\n",
        "# creating the bar plot\n",
        "plt.bar(x, y, color ='maroon',\n",
        "        width = 0.4)\n",
        "\n",
        "plt.xlabel(\"Palavras Citadas\")\n",
        "plt.ylabel(\"No de Ocorrências por Palavras\")\n",
        "plt.title(\"Quantificação da Nuvem de Palavras\")\n",
        "plt.show()"
      ],
      "metadata": {
        "id": "4QXVSuVaRjey"
      },
      "execution_count": null,
      "outputs": []
    },
    {
      "cell_type": "code",
      "source": [
        "print(wordlist)\n",
        "print(wordfreq)"
      ],
      "metadata": {
        "id": "BIVQvzW9Txw_"
      },
      "execution_count": null,
      "outputs": []
    },
    {
      "cell_type": "markdown",
      "source": [
        "# *Calcular Idade Média, Maior idade e Menor idade**"
      ],
      "metadata": {
        "id": "g_mpmkciHnCA"
      }
    },
    {
      "cell_type": "code",
      "source": [
        "# Para Calular a Idade Média basta fazer reverência ao atributo Idade do DataFrame dfD adicionando em seguida.mean()\n",
        "Media_de_Idade = dfD['idade'].mean()\n",
        "print(\"Média de Idade = \", Media_de_Idade)\n",
        "# Para Calular a Idade Máxima basta fazer reverência ao atributo Idade do DataFrame dfD adicionando em seguida.max()\n",
        "Maior_Idade = dfD['idade'].max()\n",
        "print(\"Maior idade encontrada = \", Maior_Idade)\n",
        "# Para Calular a Idade Mínima basta fazer reverência ao atributo Idade do DataFrame dfD adicionando em seguida.min()\n",
        "Menor_Idade = dfD['idade'].min()\n",
        "print(\"Menor idade encontrada = \", Menor_Idade)"
      ],
      "metadata": {
        "id": "jGuJnbJT3rd9"
      },
      "execution_count": null,
      "outputs": []
    },
    {
      "cell_type": "markdown",
      "source": [
        "# **AD08)Mas o que será que aconteceria se algum respondente deixasse sua idade em branco se não tivesse a obrigatoriedade de resposta para o campo idade?**"
      ],
      "metadata": {
        "id": "c2ecixBW4xOC"
      }
    },
    {
      "cell_type": "code",
      "source": [
        "from io import BytesIO\n",
        "import requests\n",
        "import pandas as pd\n",
        "import numpy as np\n",
        "import matplotlib.pyplot as plt\n",
        "from wordcloud import WordCloud, STOPWORDS, ImageColorGenerator\n",
        "import datetime\n",
        "rD = requests.get('https://docs.google.com/spreadsheets/d/e/2PACX-1vQeQReCjkHBBMxcMdhxJWRj0YMf5n4FfLPFigXrl6rSyEbrlDLvYMC6nOhbnBdVGx21LltR9f3VrPu0/pub?gid=1289939675&single=true&output=csv')\n",
        "dataD = rD.content\n",
        "dfD = pd.read_csv(BytesIO(dataD))\n",
        "dfD.columns = ['DataHora', 'idade', 'opiniao', 'resumo']\n",
        "dfD.columns"
      ],
      "metadata": {
        "id": "IX4uOavM5ArV"
      },
      "execution_count": null,
      "outputs": []
    },
    {
      "cell_type": "code",
      "source": [
        "dfD"
      ],
      "metadata": {
        "id": "3n3yRm2r5LGd"
      },
      "execution_count": null,
      "outputs": []
    },
    {
      "cell_type": "code",
      "source": [
        "novoDF = dfD.replace(np.nan, 0)\n",
        "novoDF"
      ],
      "metadata": {
        "id": "KswwE3Ow8YOI"
      },
      "execution_count": null,
      "outputs": []
    },
    {
      "cell_type": "code",
      "source": [
        "dfD"
      ],
      "metadata": {
        "id": "A5NWKnCt-f14"
      },
      "execution_count": null,
      "outputs": []
    },
    {
      "cell_type": "code",
      "source": [
        "novoDF2 = dfD.fillna(0)\n",
        "novoDF2"
      ],
      "metadata": {
        "id": "7N_TgMWp-j8O"
      },
      "execution_count": null,
      "outputs": []
    },
    {
      "cell_type": "markdown",
      "source": [
        "# Após trocar os valores NAN, eu continuo minha análise como antes"
      ],
      "metadata": {
        "id": "GDYTBGHdDlqR"
      }
    },
    {
      "cell_type": "code",
      "source": [
        "# Para Calular a Idade Média basta fazer reverência ao atributo Idade do DataFrame dfD adicionando em seguida.mean()\n",
        "Media_de_Idade = novoDF['idade'].mean()\n",
        "print(\"Média de Idade = \", Media_de_Idade)\n",
        "# Para Calular a Idade Máxima basta fazer reverência ao atributo Idade do DataFrame dfD adicionando em seguida.max()\n",
        "Maior_Idade = novoDF['idade'].max()\n",
        "print(\"Maior idade encontrada = \", Maior_Idade)\n",
        "# Para Calular a Idade Mínima basta fazer reverência ao atributo Idade do DataFrame dfD adicionando em seguida.min()\n",
        "Menor_Idade = novoDF['idade'].min()\n",
        "print(\"Menor idade encontrada = \", Menor_Idade)"
      ],
      "metadata": {
        "id": "DBpS-zL7Dk7h"
      },
      "execution_count": null,
      "outputs": []
    },
    {
      "cell_type": "code",
      "source": [
        "novissimoDF = novoDF.replace(to_replace = 0, value = Media_de_Idade)\n",
        "novissimoDF"
      ],
      "metadata": {
        "id": "R0_7zPF8GI93"
      },
      "execution_count": null,
      "outputs": []
    },
    {
      "cell_type": "code",
      "source": [
        "# Para Calular a Idade MédinovissimoDa basta fazer reverência ao atributo Idade do DataFrame dfD adicionando em seguida.mean()\n",
        "Media_de_Idade = novissimoDF['idade'].mean()\n",
        "print(\"Média de Idade = \", Media_de_Idade)\n",
        "# Para Calular a Idade Máxima basta fazer reverência ao atributo Idade do DataFrame dfD adicionando em seguida.max()\n",
        "Maior_Idade = novissimoDF['idade'].max()\n",
        "print(\"Maior idade encontrada = \", Maior_Idade)\n",
        "# Para Calular a Idade Mínima basta fazer reverência ao atributo Idade do DataFrame dfD adicionando em seguida.min()\n",
        "Menor_Idade = novissimoDF['idade'].min()\n",
        "print(\"Menor idade encontrada = \", Menor_Idade)"
      ],
      "metadata": {
        "id": "GK1KZEVqGrv7"
      },
      "execution_count": null,
      "outputs": []
    },
    {
      "cell_type": "markdown",
      "source": [
        "# **CLASSIFICAÇÃO ETÁRIA**"
      ],
      "metadata": {
        "id": "5Ddq_uS5VBR7"
      }
    },
    {
      "cell_type": "code",
      "source": [
        "for x in novissimoDF['idade']:\n",
        "  if int(x)<13:\n",
        "    print('Criança')\n",
        "  elif (int(x)>13 and int(x)<18):\n",
        "    print('Adolescente')\n",
        "  else:\n",
        "    print('Adulto')\n"
      ],
      "metadata": {
        "id": "3RxYVXgVZHMR"
      },
      "execution_count": null,
      "outputs": []
    }
  ]
}