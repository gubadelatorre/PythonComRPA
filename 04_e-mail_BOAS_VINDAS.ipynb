{
 "cells": [
  {
   "cell_type": "markdown",
   "id": "54e0713d",
   "metadata": {},
   "source": [
    "# BIBLIOTECAS para Robotic Process Automation – RPA"
   ]
  },
  {
   "cell_type": "code",
   "execution_count": 38,
   "id": "1de5f8bb",
   "metadata": {},
   "outputs": [],
   "source": [
    "import pyautogui\n",
    "import pyperclip\n",
    "import time\n",
    "pyautogui.PAUSE = 1"
   ]
  },
  {
   "cell_type": "code",
   "execution_count": 39,
   "id": "b0dac2ef",
   "metadata": {},
   "outputs": [],
   "source": [
    "import pandas"
   ]
  },
  {
   "cell_type": "code",
   "execution_count": 40,
   "id": "52f248f0",
   "metadata": {},
   "outputs": [
    {
     "name": "stdout",
     "output_type": "stream",
     "text": [
      "           DataHora                       e-mail Confirmacao  \\\n",
      "0  08/09/2022 11:30   massaki.igarashi@gmail.com         Sim   \n",
      "1  08/09/2022 18:08       prof.massaki@gmail.com         Sim   \n",
      "\n",
      "                            Nome              mailCERTIFICADO   FaixaEtaria  \\\n",
      "0   Massaki de Oliveira Igarashi   massaki.igarashi@gmail.com   acima de 40   \n",
      "1             RMassaki Igarashi        prof.massaki@gmail.com   acima de 40   \n",
      "\n",
      "                             Motivacao  \n",
      "0   Ter mais conhecimento e interesse.  \n",
      "1                          Aprendizado  \n"
     ]
    }
   ],
   "source": [
    "import pandas as pd\n",
    "df = pd.read_csv('PythoncomRPA2repostas2.csv', sep = \";\")\n",
    "print(df)"
   ]
  },
  {
   "cell_type": "code",
   "execution_count": 41,
   "id": "69e7301e",
   "metadata": {},
   "outputs": [
    {
     "data": {
      "text/plain": [
       "' prof.massaki@gmail.com'"
      ]
     },
     "execution_count": 41,
     "metadata": {},
     "output_type": "execute_result"
    }
   ],
   "source": [
    "mail1 = df[\"e-mail\"][1]\n",
    "mail1"
   ]
  },
  {
   "cell_type": "code",
   "execution_count": 42,
   "id": "5c791dce",
   "metadata": {},
   "outputs": [
    {
     "data": {
      "text/plain": [
       "2"
      ]
     },
     "execution_count": 42,
     "metadata": {},
     "output_type": "execute_result"
    }
   ],
   "source": [
    "len(df)"
   ]
  },
  {
   "cell_type": "markdown",
   "id": "f613b161",
   "metadata": {},
   "source": [
    "### pandas.DataFrame.value_counts\n",
    " DataFrame.value_counts(subset=None, normalize=False, sort=True, ascending=False, dropna=True)\n",
    " \n",
    "**Retorna uma série contendo a frequência em cada linha de um DataFrame.**"
   ]
  },
  {
   "cell_type": "code",
   "execution_count": 43,
   "id": "cb97fe47",
   "metadata": {},
   "outputs": [
    {
     "data": {
      "text/plain": [
       " massaki.igarashi@gmail.com    1\n",
       " prof.massaki@gmail.com        1\n",
       "Name: e-mail, dtype: int64"
      ]
     },
     "execution_count": 43,
     "metadata": {},
     "output_type": "execute_result"
    }
   ],
   "source": [
    "df['e-mail'].value_counts()"
   ]
  },
  {
   "cell_type": "markdown",
   "id": "64680da0",
   "metadata": {},
   "source": [
    "#### DataFrame[\"NOME_DA_COLUNA\"][ÍNDICE_DA_LINHA]"
   ]
  },
  {
   "cell_type": "code",
   "execution_count": 44,
   "id": "6768b9ac",
   "metadata": {},
   "outputs": [
    {
     "data": {
      "text/plain": [
       "' massaki.igarashi@gmail.com'"
      ]
     },
     "execution_count": 44,
     "metadata": {},
     "output_type": "execute_result"
    }
   ],
   "source": [
    "df[\"e-mail\"][0]"
   ]
  },
  {
   "cell_type": "markdown",
   "id": "98492fb6",
   "metadata": {},
   "source": [
    "#### Agora vocês ver como ficará nosso exemplo com as novas implementações:"
   ]
  },
  {
   "cell_type": "code",
   "execution_count": 46,
   "id": "91ac5da8",
   "metadata": {},
   "outputs": [],
   "source": [
    "from datetime import datetime\n",
    "def Periodo(d, m, y):\n",
    "    return (datetime.now().year - y) + (datetime.now().month -m) + (datetime.now().day -d)\n",
    "n = len(df) #Contabiliza a quantidade de registro para o Looping\n",
    "for i in range(n-1):\n",
    "        Nome = df['Nome'][i]    \n",
    "        pyautogui.hotkey(\"ctrl\", \"t\")\n",
    "        pyperclip.copy(\"https://mail.google.com/mail/u/0/?hl=pt-BR#inbox?compose=new\")\n",
    "        pyautogui.hotkey(\"ctrl\", \"v\")\n",
    "        pyautogui.press(\"enter\")\n",
    "        time.sleep(10)    \n",
    "        pyautogui.write(str(df[\"e-mail\"][i]))\n",
    "        pyautogui.press(\"tab\") # pula pro campo de assunto\n",
    "        pyautogui.press(\"tab\") # pula pro campo de assunto\n",
    "        pyautogui.write(Nome),\n",
    "        pyperclip.copy(\" Bem vindo(a)! \\n\"),\n",
    "        pyautogui.hotkey(\"ctrl\", \"v\") # escrever o assunto\n",
    "        pyautogui.press(\"tab\") #pular pro corpo do email\n",
    "        time.sleep(7)\n",
    "        pyautogui.write(\"Passando para desejar muitas felicidades! \\n\")\n",
    "        pyperclip.copy(\"E muitos anos de vida. \\n\")\n",
    "        pyperclip.copy(\"Aproveite bem o seu dia!\")\n",
    "        time.sleep(5)\n",
    "        # apertar Ctrl Enter\n",
    "        pyautogui.hotkey(\"ctrl\", \"enter\")\n",
    "        # Tela de processo concluído\n",
    "    \n",
    "time.sleep(5)\n",
    "pyautogui.hotkey(\"ctrl\", \"t\")\n",
    "pyperclip.copy(\"https://www.gov.br/cgu/pt-br/100-dias/statusconcluido.png/@@images/image\")\n",
    "pyautogui.hotkey(\"ctrl\", \"v\")\n",
    "pyautogui.press(\"enter\")"
   ]
  },
  {
   "cell_type": "code",
   "execution_count": null,
   "id": "009519c6",
   "metadata": {},
   "outputs": [],
   "source": []
  },
  {
   "cell_type": "code",
   "execution_count": null,
   "id": "085ad4b4",
   "metadata": {},
   "outputs": [],
   "source": []
  }
 ],
 "metadata": {
  "kernelspec": {
   "display_name": "Python 3 (ipykernel)",
   "language": "python",
   "name": "python3"
  },
  "language_info": {
   "codemirror_mode": {
    "name": "ipython",
    "version": 3
   },
   "file_extension": ".py",
   "mimetype": "text/x-python",
   "name": "python",
   "nbconvert_exporter": "python",
   "pygments_lexer": "ipython3",
   "version": "3.9.12"
  }
 },
 "nbformat": 4,
 "nbformat_minor": 5
}
